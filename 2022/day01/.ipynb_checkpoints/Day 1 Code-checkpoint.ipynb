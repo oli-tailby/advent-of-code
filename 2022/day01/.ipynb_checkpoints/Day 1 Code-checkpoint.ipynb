{
 "cells": [
  {
   "cell_type": "markdown",
   "id": "199d8952",
   "metadata": {},
   "source": [
    "# Advent of Code Day 1\n",
    "\n",
    "Calorie Counting - find the Elf with the most calories"
   ]
  },
  {
   "cell_type": "code",
   "execution_count": 5,
   "id": "a4bb69a2",
   "metadata": {},
   "outputs": [],
   "source": [
    "# Extract input and split by newline\n",
    "def get_input(filename):\n",
    "    with open(filename) as f:\n",
    "        cals_input = f.read().splitlines()\n",
    "    \n",
    "    return cals_input"
   ]
  },
  {
   "cell_type": "code",
   "execution_count": 29,
   "id": "ba7d9551",
   "metadata": {},
   "outputs": [],
   "source": [
    "# Index through calorie counts and sum for each elf. Assign a new elf on a blank line\n",
    "def elf_count_cals(cals_input):\n",
    "    ind=0\n",
    "    elf_cals=[0]\n",
    "    for i in cals_input:\n",
    "        if i=='':\n",
    "            ind += 1\n",
    "            elf_cals.append(0)\n",
    "        else:\n",
    "            elf_cals[ind] += int(i)\n",
    "    \n",
    "    return elf_cals"
   ]
  },
  {
   "cell_type": "code",
   "execution_count": 41,
   "id": "81497cb1",
   "metadata": {},
   "outputs": [],
   "source": [
    "# Sort elves descending and sum the top n values\n",
    "def sum_top_n(input_list, n):\n",
    "    list_sorted = sorted(input_list, reverse=True)\n",
    "    sum_top_n = sum(list_sorted[0:n])\n",
    "    \n",
    "    return sum_top_n"
   ]
  },
  {
   "cell_type": "code",
   "execution_count": 42,
   "id": "56255b32",
   "metadata": {},
   "outputs": [],
   "source": [
    "# Get input\n",
    "cals_input = get_input('input.txt')"
   ]
  },
  {
   "cell_type": "markdown",
   "id": "6966c138",
   "metadata": {},
   "source": [
    "## Part 1"
   ]
  },
  {
   "cell_type": "code",
   "execution_count": 46,
   "id": "a6b51442",
   "metadata": {},
   "outputs": [],
   "source": [
    "elf_cals = elf_count_cals(cals_input)\n",
    "output = sum_top_n(elf_cals, 1)"
   ]
  },
  {
   "cell_type": "code",
   "execution_count": 47,
   "id": "5c723a9f",
   "metadata": {},
   "outputs": [
    {
     "data": {
      "text/plain": [
       "70764"
      ]
     },
     "execution_count": 47,
     "metadata": {},
     "output_type": "execute_result"
    }
   ],
   "source": [
    "output"
   ]
  },
  {
   "cell_type": "markdown",
   "id": "2e24f373",
   "metadata": {},
   "source": [
    "## Part 2"
   ]
  },
  {
   "cell_type": "code",
   "execution_count": 49,
   "id": "abd96ca2",
   "metadata": {},
   "outputs": [],
   "source": [
    "elf_cals = elf_count_cals(cals_input)\n",
    "output = sum_top_n(elf_cals, 3)"
   ]
  },
  {
   "cell_type": "code",
   "execution_count": 50,
   "id": "fbf2edbb",
   "metadata": {},
   "outputs": [
    {
     "data": {
      "text/plain": [
       "203905"
      ]
     },
     "execution_count": 50,
     "metadata": {},
     "output_type": "execute_result"
    }
   ],
   "source": [
    "output"
   ]
  },
  {
   "cell_type": "code",
   "execution_count": null,
   "id": "e0eb263c",
   "metadata": {},
   "outputs": [],
   "source": []
  }
 ],
 "metadata": {
  "kernelspec": {
   "display_name": "Python 3 (ipykernel)",
   "language": "python",
   "name": "python3"
  },
  "language_info": {
   "codemirror_mode": {
    "name": "ipython",
    "version": 3
   },
   "file_extension": ".py",
   "mimetype": "text/x-python",
   "name": "python",
   "nbconvert_exporter": "python",
   "pygments_lexer": "ipython3",
   "version": "3.7.9"
  }
 },
 "nbformat": 4,
 "nbformat_minor": 5
}
