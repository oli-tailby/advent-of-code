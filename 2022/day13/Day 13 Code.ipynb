{
 "cells": [
  {
   "cell_type": "code",
   "execution_count": 277,
   "id": "b072c6e1",
   "metadata": {},
   "outputs": [],
   "source": [
    "def read_input(filename, part=1):\n",
    "    with open(filename) as f:\n",
    "        data = f.read().splitlines()\n",
    "    \n",
    "    pairs = []\n",
    "    if part==1: # for first part, sort into pairs\n",
    "        for i in range(int((len(data)+1)/3)):\n",
    "            pairs.append((eval(data[3*i]), eval(data[3*i+1])))\n",
    "    else: # for second part create a list of each packet\n",
    "        for i in range(int((len(data)+1)/3)):\n",
    "            pairs.append(eval(data[3*i]))\n",
    "            pairs.append(eval(data[3*i+1]))\n",
    "        \n",
    "    return pairs"
   ]
  },
  {
   "cell_type": "code",
   "execution_count": 293,
   "id": "db7e1cde",
   "metadata": {},
   "outputs": [],
   "source": [
    "def compare_pair(pair):\n",
    "    (l1, l2) = pair\n",
    "    # if both integer values, compare size:\n",
    "    if (type(l1) is int) and (type(l2) is int):\n",
    "        if l1<l2: return 1\n",
    "        elif l1>l2: return -1\n",
    "        else: return 0\n",
    "    else: # otherwise, if only one is int convert to list\n",
    "        if type(l1) is int: l1=[l1]\n",
    "        if type(l2) is int: l2=[l2]\n",
    "    for a, b in zip(l1,l2): # call function recursively\n",
    "        r = compare_pair((a, b))\n",
    "        if r != 0: # if conclusive, return result\n",
    "            return r\n",
    "    # if previous tests were inconclusive return results based on length\n",
    "    if len(l1) < len(l2):\n",
    "        return 1 \n",
    "    elif len(l1) == len(l2):\n",
    "        return 0\n",
    "    else:\n",
    "        return -1"
   ]
  },
  {
   "cell_type": "code",
   "execution_count": 294,
   "id": "ccce3287",
   "metadata": {},
   "outputs": [],
   "source": [
    "def compare_all_pairs(filename):\n",
    "    ind_total = 0\n",
    "    pairs = read_input(filename)\n",
    "    for ind, pair in enumerate(pairs):\n",
    "        if compare_pair(pair)==1: ind_total += ind+1\n",
    "    return ind_total"
   ]
  },
  {
   "cell_type": "code",
   "execution_count": 295,
   "id": "edfc5368",
   "metadata": {},
   "outputs": [
    {
     "data": {
      "text/plain": [
       "5529"
      ]
     },
     "execution_count": 295,
     "metadata": {},
     "output_type": "execute_result"
    }
   ],
   "source": [
    "compare_all_pairs('input.txt')"
   ]
  },
  {
   "cell_type": "code",
   "execution_count": 298,
   "id": "65effab4",
   "metadata": {},
   "outputs": [],
   "source": [
    "def count_before_dividers(filename, dividers):\n",
    "    key = 1\n",
    "    packets = read_input(filename, part=2)\n",
    "    for div in dividers: # for each divider count the packets before it\n",
    "        ind = 1\n",
    "        for packet in packets:\n",
    "            if compare_pair((packet, div))==1:\n",
    "                ind += 1\n",
    "        key *= ind\n",
    "        packets.append(div)\n",
    "    return key"
   ]
  },
  {
   "cell_type": "code",
   "execution_count": 299,
   "id": "e5d20df5",
   "metadata": {},
   "outputs": [
    {
     "data": {
      "text/plain": [
       "27690"
      ]
     },
     "execution_count": 299,
     "metadata": {},
     "output_type": "execute_result"
    }
   ],
   "source": [
    "count_before_dividers('input.txt', [[[2]], [[6]]])"
   ]
  },
  {
   "cell_type": "code",
   "execution_count": null,
   "id": "f54d393e",
   "metadata": {},
   "outputs": [],
   "source": []
  }
 ],
 "metadata": {
  "kernelspec": {
   "display_name": "Python 3 (ipykernel)",
   "language": "python",
   "name": "python3"
  },
  "language_info": {
   "codemirror_mode": {
    "name": "ipython",
    "version": 3
   },
   "file_extension": ".py",
   "mimetype": "text/x-python",
   "name": "python",
   "nbconvert_exporter": "python",
   "pygments_lexer": "ipython3",
   "version": "3.7.9"
  }
 },
 "nbformat": 4,
 "nbformat_minor": 5
}
