{
 "cells": [
  {
   "cell_type": "code",
   "execution_count": 1,
   "id": "6db81ec3",
   "metadata": {},
   "outputs": [],
   "source": [
    "import numpy as np"
   ]
  },
  {
   "cell_type": "code",
   "execution_count": 2,
   "id": "3607eb17",
   "metadata": {},
   "outputs": [],
   "source": [
    "class Graph:\n",
    "    def __init__(self, vertices):\n",
    "        self.edges = {v: [] for v in range(vertices)}\n",
    "        \n",
    "    def add_edge(self, u, v, weight=1):\n",
    "        self.edges[u].append(v)\n",
    "        \n",
    "    def bfs(self, start, ends):\n",
    "        explored = []\n",
    "        queue = [[start]]\n",
    "        if start in ends: return 0\n",
    "\n",
    "        while queue:\n",
    "            path = queue.pop(0)\n",
    "            node = path[-1]\n",
    "            # move through nodes closest first\n",
    "            if node not in explored:\n",
    "                neighbours = self.edges[node]\n",
    "                # explore neighbors\n",
    "                for neighbour in neighbours:\n",
    "                    new_path = list(path)\n",
    "                    new_path.append(neighbour)\n",
    "                    queue.append(new_path)\n",
    "                    # if an acceptable end is reached, return the route\n",
    "                    if neighbour in ends:\n",
    "                        return len(new_path)-1\n",
    "                # mark node as explored\n",
    "                explored.append(node)\n",
    "        return len(new_path)-1"
   ]
  },
  {
   "cell_type": "code",
   "execution_count": 3,
   "id": "6942ff2d",
   "metadata": {},
   "outputs": [],
   "source": [
    "def read_input(filename, part):\n",
    "    def adj_points(i_x,i_y,j_x,j_y):\n",
    "        adj_x = ((abs(i_x-j_x)==1) & (abs(i_y-j_y)==0))\n",
    "        adj_y = ((abs(i_x-j_x)==0) & (abs(i_y-j_y)==1))\n",
    "        return (adj_x | adj_y)\n",
    "    \n",
    "    with open(filename) as f:\n",
    "        data = f.read().splitlines()\n",
    "        \n",
    "    data = np.array(list(map(list, data)))\n",
    "    steps = Graph(data.size)\n",
    "    \n",
    "    # set end options based on part (actually using the start, since we run backwards)\n",
    "    if part==2:\n",
    "        data[data=='S'] = 'a'\n",
    "        ends_init = np.where(data=='a')\n",
    "        ends = []\n",
    "        for i in range(len(ends_init[0])):\n",
    "            ends.append(data.shape[1]*ends_init[0][i] + ends_init[1][i])\n",
    "    else:\n",
    "        ends = np.where(data=='S')\n",
    "        ends = (data.shape[1]*ends[0] + ends[1])\n",
    "        data[data=='S'] = 'a'\n",
    "    # set start point (actually using the end, since we run the algorithm backwards)\n",
    "    start = np.where(data=='E')\n",
    "    data[data=='E'] = 'z'\n",
    "    start = (data.shape[1]*start[0] + start[1])[0]\n",
    "    \n",
    "    for i in range(data.size): # compare each point to other points and add an edge where possible\n",
    "        (i_x, i_y) = (i % data.shape[1], int(i/data.shape[1]))\n",
    "        for j in range(data.size):\n",
    "            (j_x, j_y) = (j % data.shape[1], int(j/data.shape[1]))\n",
    "            if adj_points(i_x,i_y,j_x,j_y): # if points suitably close...\n",
    "                if ord(data[j_y,j_x])-ord(data[i_y,i_x]) <= 1: # ...and the step up is small enough...\n",
    "                    steps.add_edge(j, i) # ...set the reverse as the weighting (as we run backwards)\n",
    "                    \n",
    "    return steps, start, ends, data"
   ]
  },
  {
   "cell_type": "code",
   "execution_count": 4,
   "id": "6ae4e714",
   "metadata": {},
   "outputs": [],
   "source": [
    "def shortest_path(filename, part=1):\n",
    "    steps, start, ends, _ = read_input(filename, part)\n",
    "    return steps.bfs(start, ends) # run bfs backwards to accepted 'ends' (starts of the trail)"
   ]
  },
  {
   "cell_type": "code",
   "execution_count": 5,
   "id": "a09f02d7",
   "metadata": {},
   "outputs": [
    {
     "data": {
      "text/plain": [
       "412"
      ]
     },
     "execution_count": 5,
     "metadata": {},
     "output_type": "execute_result"
    }
   ],
   "source": [
    "shortest_path('input.txt')"
   ]
  },
  {
   "cell_type": "code",
   "execution_count": 6,
   "id": "f54f0f3e",
   "metadata": {},
   "outputs": [
    {
     "data": {
      "text/plain": [
       "402"
      ]
     },
     "execution_count": 6,
     "metadata": {},
     "output_type": "execute_result"
    }
   ],
   "source": [
    "shortest_path('input.txt', part=2)"
   ]
  },
  {
   "cell_type": "code",
   "execution_count": null,
   "id": "aaae575e",
   "metadata": {},
   "outputs": [],
   "source": []
  }
 ],
 "metadata": {
  "kernelspec": {
   "display_name": "Python 3 (ipykernel)",
   "language": "python",
   "name": "python3"
  },
  "language_info": {
   "codemirror_mode": {
    "name": "ipython",
    "version": 3
   },
   "file_extension": ".py",
   "mimetype": "text/x-python",
   "name": "python",
   "nbconvert_exporter": "python",
   "pygments_lexer": "ipython3",
   "version": "3.7.9"
  }
 },
 "nbformat": 4,
 "nbformat_minor": 5
}
