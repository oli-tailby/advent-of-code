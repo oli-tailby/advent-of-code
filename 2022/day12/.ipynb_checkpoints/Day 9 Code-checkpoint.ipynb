{
 "cells": [
  {
   "cell_type": "code",
   "execution_count": 1,
   "id": "2a20314c",
   "metadata": {},
   "outputs": [],
   "source": [
    "# read text input and convert into numpy array matrix\n",
    "def read_input(filename):\n",
    "    with open(filename) as f:\n",
    "        data = f.read().splitlines()\n",
    "    return data"
   ]
  },
  {
   "cell_type": "code",
   "execution_count": 2,
   "id": "fdd00319",
   "metadata": {},
   "outputs": [],
   "source": [
    "def head_move_pos(old_pos, instr):\n",
    "    (h_x, h_y) = old_pos\n",
    "    \n",
    "    # define the new head coordinates from the instruction\n",
    "    if instr == 'R':\n",
    "        h_x+=1\n",
    "    elif instr == 'L':\n",
    "        h_x-=1\n",
    "    elif instr == 'U':\n",
    "        h_y+=1\n",
    "    elif instr == 'D':\n",
    "        h_y-=1\n",
    "        \n",
    "    new_pos = (h_x, h_y)\n",
    "    \n",
    "    return new_pos"
   ]
  },
  {
   "cell_type": "code",
   "execution_count": 3,
   "id": "8c4d74af",
   "metadata": {},
   "outputs": [],
   "source": [
    "def tail_move_pos(old_pos, head_pos):\n",
    "    (t_x, t_y) = old_pos\n",
    "    (h_x, h_y) = head_pos\n",
    "    \n",
    "    x_dist = h_x - t_x\n",
    "    y_dist = h_y - t_y\n",
    "    \n",
    "    # if far enough from head, move\n",
    "    if (abs(x_dist)>1) | (abs(y_dist)>1):\n",
    "    \n",
    "        # if at a diagonal move in both axis\n",
    "        if (abs(x_dist) > 0) & (abs(y_dist) > 0):\n",
    "            if x_dist > 0:\n",
    "                t_x += 1\n",
    "            else:\n",
    "                t_x -= 1\n",
    "            if y_dist > 0:\n",
    "                t_y += 1\n",
    "            else:\n",
    "                t_y -= 1\n",
    "\n",
    "        # if on a row move in the direction of the head\n",
    "        elif (x_dist==0) | (y_dist==0):\n",
    "            if x_dist > 0:\n",
    "                t_x += 1\n",
    "            elif x_dist < 0:\n",
    "                t_x -= 1\n",
    "            elif y_dist > 0:\n",
    "                t_y += 1\n",
    "            elif y_dist < 0:\n",
    "                t_y -= 1\n",
    "    \n",
    "    new_pos = (t_x, t_y)\n",
    "    \n",
    "    return new_pos"
   ]
  },
  {
   "cell_type": "code",
   "execution_count": 4,
   "id": "891c345f",
   "metadata": {},
   "outputs": [],
   "source": [
    "def get_all_positions(filename, n_tails=1):\n",
    "    \n",
    "    data = read_input(filename)\n",
    "    head_pos = (0,0)\n",
    "    tail_pos = [(0,0)]*n_tails # tailpos[i] represents the location of the ith tail\n",
    "    all_positions = set()\n",
    "    \n",
    "    # for each instruction...\n",
    "    for step in data:\n",
    "        instr, rep = step.split()\n",
    "        # repeat the specified number of times...\n",
    "        for i in range(int(rep)):\n",
    "            # update head and first tail position\n",
    "            head_pos = head_move_pos(head_pos, instr)\n",
    "            tail_pos[0] = tail_move_pos(tail_pos[0], head_pos)\n",
    "            for i in range(1,n_tails):\n",
    "                # for each remaining tail, use the previous tail as the head\n",
    "                tail_pos[i] = tail_move_pos(tail_pos[i], tail_pos[i-1])\n",
    "            # store the location of the last tail\n",
    "            all_positions.add(tail_pos[n_tails-1])\n",
    "    \n",
    "    return len(all_positions)"
   ]
  },
  {
   "cell_type": "code",
   "execution_count": 5,
   "id": "47be816e",
   "metadata": {},
   "outputs": [
    {
     "data": {
      "text/plain": [
       "6284"
      ]
     },
     "execution_count": 5,
     "metadata": {},
     "output_type": "execute_result"
    }
   ],
   "source": [
    "# Part 1\n",
    "get_all_positions('input.txt', 1)"
   ]
  },
  {
   "cell_type": "code",
   "execution_count": 6,
   "id": "f3453238",
   "metadata": {},
   "outputs": [
    {
     "data": {
      "text/plain": [
       "2661"
      ]
     },
     "execution_count": 6,
     "metadata": {},
     "output_type": "execute_result"
    }
   ],
   "source": [
    "# Part 2\n",
    "get_all_positions('input.txt', 9)"
   ]
  },
  {
   "cell_type": "code",
   "execution_count": null,
   "id": "2983dc6c",
   "metadata": {},
   "outputs": [],
   "source": []
  },
  {
   "cell_type": "code",
   "execution_count": null,
   "id": "8f039dee",
   "metadata": {},
   "outputs": [],
   "source": []
  }
 ],
 "metadata": {
  "kernelspec": {
   "display_name": "Python 3 (ipykernel)",
   "language": "python",
   "name": "python3"
  },
  "language_info": {
   "codemirror_mode": {
    "name": "ipython",
    "version": 3
   },
   "file_extension": ".py",
   "mimetype": "text/x-python",
   "name": "python",
   "nbconvert_exporter": "python",
   "pygments_lexer": "ipython3",
   "version": "3.7.9"
  }
 },
 "nbformat": 4,
 "nbformat_minor": 5
}
