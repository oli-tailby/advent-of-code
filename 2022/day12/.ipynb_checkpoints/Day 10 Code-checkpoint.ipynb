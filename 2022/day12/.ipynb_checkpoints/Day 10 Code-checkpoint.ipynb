{
 "cells": [
  {
   "cell_type": "code",
   "execution_count": 1,
   "id": "2a20314c",
   "metadata": {},
   "outputs": [],
   "source": [
    "# read text input and convert into numpy array matrix\n",
    "def read_input(filename):\n",
    "    with open(filename) as f:\n",
    "        data = f.read().splitlines()\n",
    "    return data"
   ]
  },
  {
   "cell_type": "code",
   "execution_count": 56,
   "id": "2983dc6c",
   "metadata": {},
   "outputs": [],
   "source": [
    "def run_cycles(data):\n",
    "    cycles_during = []\n",
    "    current = (0,1)\n",
    "    for instr in data:\n",
    "        if instr == 'noop':\n",
    "            current = (current[0]+1, current[1])\n",
    "            cycles_during.append(current)\n",
    "        else:\n",
    "            current = (current[0]+1, current[1])\n",
    "            cycles_during.append(current)\n",
    "            \n",
    "            current = (current[0]+1, current[1])\n",
    "            addx = int(instr.split()[-1])\n",
    "            cycles_during.append(current)\n",
    "            current = (current[0], current[1]+addx)\n",
    "            \n",
    "    return cycles_during"
   ]
  },
  {
   "cell_type": "code",
   "execution_count": 57,
   "id": "8f039dee",
   "metadata": {},
   "outputs": [],
   "source": [
    "data = read_input('testinput.txt')"
   ]
  },
  {
   "cell_type": "markdown",
   "id": "3f469284",
   "metadata": {},
   "source": [
    "# Part 1"
   ]
  },
  {
   "cell_type": "code",
   "execution_count": 58,
   "id": "6dc48e16",
   "metadata": {},
   "outputs": [],
   "source": [
    "def sum_cycles_during(filename, ns):\n",
    "    data = read_input(filename)\n",
    "    cycles_during = run_cycles(data)\n",
    "    total = 0\n",
    "    for n in ns:\n",
    "        total += cycles_during[n-1][1] * n\n",
    "        \n",
    "    return total"
   ]
  },
  {
   "cell_type": "code",
   "execution_count": 59,
   "id": "c90f4ef9",
   "metadata": {},
   "outputs": [
    {
     "data": {
      "text/plain": [
       "12520"
      ]
     },
     "execution_count": 59,
     "metadata": {},
     "output_type": "execute_result"
    }
   ],
   "source": [
    "sum_cycles_during('input.txt', [20, 60, 100, 140, 180, 220])"
   ]
  },
  {
   "cell_type": "markdown",
   "id": "3e170c99",
   "metadata": {},
   "source": [
    "# Part 2"
   ]
  },
  {
   "cell_type": "code",
   "execution_count": 74,
   "id": "bfcf3b87",
   "metadata": {},
   "outputs": [],
   "source": [
    "def print_terminal(filename, size):\n",
    "    data = read_input(filename)\n",
    "    cycles_during = run_cycles(data)\n",
    "    output = ['.']*len(cycles_during)\n",
    "    for (cyc, x) in cycles_during:\n",
    "        line_pos = cyc % size[0]\n",
    "        if abs(line_pos-x-1) <= 1:\n",
    "            output[cyc-1] = '#'\n",
    "    \n",
    "    for n in range(size[1]):\n",
    "        line = output[n*size[0]:(n+1)*size[0]-1]\n",
    "        print(*line)\n",
    "    "
   ]
  },
  {
   "cell_type": "code",
   "execution_count": 76,
   "id": "a9a68aa8",
   "metadata": {},
   "outputs": [
    {
     "name": "stdout",
     "output_type": "stream",
     "text": [
      "# # # # . # . . # . # # # . . # # # # . # # # . . . . # # . . # # . . # . . .\n",
      "# . . . . # . . # . # . . # . . . . # . # . . # . . . . # . # . . # . # . . .\n",
      "# # # . . # # # # . # . . # . . . # . . # . . # . . . . # . # . . . . # . . .\n",
      "# . . . . # . . # . # # # . . . # . . . # # # . . . . . # . # . # # . # . . .\n",
      "# . . . . # . . # . # . . . . # . . . . # . . . . # . . # . # . . # . # . . .\n",
      "# # # # . # . . # . # . . . . # # # # . # . . . . . # # . . . # # # . # # # #\n"
     ]
    }
   ],
   "source": [
    "print_terminal('input.txt', (40, 6))"
   ]
  },
  {
   "cell_type": "code",
   "execution_count": null,
   "id": "1354d09e",
   "metadata": {},
   "outputs": [],
   "source": []
  }
 ],
 "metadata": {
  "kernelspec": {
   "display_name": "Python 3 (ipykernel)",
   "language": "python",
   "name": "python3"
  },
  "language_info": {
   "codemirror_mode": {
    "name": "ipython",
    "version": 3
   },
   "file_extension": ".py",
   "mimetype": "text/x-python",
   "name": "python",
   "nbconvert_exporter": "python",
   "pygments_lexer": "ipython3",
   "version": "3.7.9"
  }
 },
 "nbformat": 4,
 "nbformat_minor": 5
}
