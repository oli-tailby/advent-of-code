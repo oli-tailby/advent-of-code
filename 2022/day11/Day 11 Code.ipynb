{
 "cells": [
  {
   "cell_type": "code",
   "execution_count": 290,
   "id": "6e8ca418",
   "metadata": {},
   "outputs": [],
   "source": [
    "class Monkey:\n",
    "    # define monkey class with its behaviours and 'inspections' as a items handled tracker\n",
    "    def __init__(self, number, items, operation, test, iftrue, iffalse, inspections):\n",
    "        self.number = number\n",
    "        self.items = items\n",
    "        self.operation = operation\n",
    "        self.test = test\n",
    "        self.iftrue = iftrue\n",
    "        self.iffalse = iffalse\n",
    "        self.inspections = inspections\n",
    "        \n",
    "    # define function to represent taking a term\n",
    "    def take_turn(self, worry_div, mod_sum):\n",
    "        throws = []\n",
    "        # go through each item\n",
    "        for worry in self.items:\n",
    "            self.inspections += len(self.items)\n",
    "            worry = run_operation(worry, self.operation)\n",
    "            if worry_div:\n",
    "                # if handling worries, divide by three\n",
    "                worry = int(worry/3)\n",
    "            else:\n",
    "                # otherwise only retain enough information to compare to all monkey's requirements\n",
    "                # mod_sum is the product of all monkey's division requirements\n",
    "                worry = worry%mod_sum\n",
    "            # test to find which monkey the item is thrown to\n",
    "            if worry%self.test == 0:\n",
    "                throws.append((self.iftrue, worry))\n",
    "            else:\n",
    "                throws.append((self.iffalse, worry))\n",
    "            self.items = []\n",
    "        return throws"
   ]
  },
  {
   "cell_type": "code",
   "execution_count": 291,
   "id": "b9b06747",
   "metadata": {},
   "outputs": [],
   "source": [
    "def run_operation(data, directions):\n",
    "    (op, amount) = directions\n",
    "    # if based on old worry value update amount to reflect this\n",
    "    if amount=='old':\n",
    "        amount = data\n",
    "\n",
    "    # update worry value from directions\n",
    "    if op=='*':\n",
    "        data *= int(amount)\n",
    "    else:\n",
    "        data += int(amount)\n",
    "    return data"
   ]
  },
  {
   "cell_type": "code",
   "execution_count": 292,
   "id": "9d76d1c5",
   "metadata": {},
   "outputs": [],
   "source": [
    "def list_product(ls):\n",
    "    # find product of list items\n",
    "    result = 1\n",
    "    for i in ls:\n",
    "        result *= i\n",
    "    return result"
   ]
  },
  {
   "cell_type": "code",
   "execution_count": 308,
   "id": "2a20314c",
   "metadata": {},
   "outputs": [],
   "source": [
    "def read_input(filename):\n",
    "    monkeys = []\n",
    "    # read text input\n",
    "    with open(filename) as f:\n",
    "        data = f.read().splitlines()\n",
    "    \n",
    "    # function to read items from raw text format\n",
    "    def read_items(raw):\n",
    "        return list(map(int, raw.split(': ')[-1].split(', ')))\n",
    "    \n",
    "    # function to get basic operation info from raw text format\n",
    "    def get_operation(raw):\n",
    "        op = raw.split()[-2]\n",
    "        amount = raw.split()[-1]\n",
    "        return (op, amount)\n",
    "        \n",
    "    # read in each monkey attribute from raw text data\n",
    "    # see AOC website or input.txt for exact format\n",
    "    for i in range(int((len(data)+1)/7)):\n",
    "        monkey_n = Monkey(int(data[7*i].split()[-1][:-1]),\n",
    "                         read_items(data[7*i+1]),\n",
    "                         get_operation(data[7*i+2]),\n",
    "                         int(data[7*i+3].split()[-1]),\n",
    "                         int(data[7*i+4].split()[-1]),\n",
    "                         int(data[7*i+5].split()[-1]),\n",
    "                          0\n",
    "                            )\n",
    "        monkeys.append(monkey_n)\n",
    "    \n",
    "    return monkeys"
   ]
  },
  {
   "cell_type": "code",
   "execution_count": 294,
   "id": "b83d276c",
   "metadata": {},
   "outputs": [],
   "source": [
    "def run_round(monkeys, worry_div, mod_sum):\n",
    "    # each monkey has their turn, then throws to other monkeys based on their results\n",
    "    for monkey in monkeys:\n",
    "        throws = monkey.take_turn(worry_div=worry_div, mod_sum=mod_sum)\n",
    "        for throw in throws:\n",
    "            monkeys[throw[0]].items.append(throw[1])\n",
    "        \n",
    "    return monkeys"
   ]
  },
  {
   "cell_type": "code",
   "execution_count": 303,
   "id": "90097ec6",
   "metadata": {},
   "outputs": [],
   "source": [
    "def items_inspected_n_rounds(filename, n, top_n=2, worry_div=True):\n",
    "    monkeys = read_input(filename)\n",
    "    mod_sum = list_product([m.test for m in monkeys])\n",
    "    \n",
    "    # run the specified number of rounds\n",
    "    for i in range(n):\n",
    "        monkeys = run_round(monkeys, worry_div, mod_sum)\n",
    "    \n",
    "    # return the product of specified top n inspections\n",
    "    insp = sorted([m.inspections for m in monkeys], reverse=True)\n",
    "    return list_product(insp[:2])"
   ]
  },
  {
   "cell_type": "code",
   "execution_count": 304,
   "id": "43aeef05",
   "metadata": {},
   "outputs": [
    {
     "data": {
      "text/plain": [
       "113232"
      ]
     },
     "execution_count": 304,
     "metadata": {},
     "output_type": "execute_result"
    }
   ],
   "source": [
    "items_inspected_n_rounds('input.txt', 20)"
   ]
  },
  {
   "cell_type": "code",
   "execution_count": 306,
   "id": "611fe256",
   "metadata": {},
   "outputs": [
    {
     "data": {
      "text/plain": [
       "29703395016"
      ]
     },
     "execution_count": 306,
     "metadata": {},
     "output_type": "execute_result"
    }
   ],
   "source": [
    "items_inspected_n_rounds('input.txt', 10000, worry_div=False)"
   ]
  },
  {
   "cell_type": "code",
   "execution_count": null,
   "id": "936c9d89",
   "metadata": {},
   "outputs": [],
   "source": []
  }
 ],
 "metadata": {
  "kernelspec": {
   "display_name": "Python 3 (ipykernel)",
   "language": "python",
   "name": "python3"
  },
  "language_info": {
   "codemirror_mode": {
    "name": "ipython",
    "version": 3
   },
   "file_extension": ".py",
   "mimetype": "text/x-python",
   "name": "python",
   "nbconvert_exporter": "python",
   "pygments_lexer": "ipython3",
   "version": "3.7.9"
  }
 },
 "nbformat": 4,
 "nbformat_minor": 5
}
