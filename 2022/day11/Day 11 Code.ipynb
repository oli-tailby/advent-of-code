{
 "cells": [
  {
   "cell_type": "code",
   "execution_count": 337,
   "id": "cfbd8c4d",
   "metadata": {},
   "outputs": [],
   "source": [
    "class Monkey:\n",
    "    # define monkey class with its behaviours and 'inspections' as a items handled tracker\n",
    "    def __init__(self, number, items, operation, test, iftrue, iffalse, inspections):\n",
    "        self.number = number\n",
    "        self.items = items\n",
    "        self.operation = operation\n",
    "        self.test = test\n",
    "        self.iftrue = iftrue\n",
    "        self.iffalse = iffalse\n",
    "        self.inspections = inspections\n",
    "\n",
    "    # define function to represent taking a term\n",
    "    def take_turn(self, worry_div, mod_lcm):\n",
    "        throws = []\n",
    "        for worry in self.items:\n",
    "            self.inspections += len(self.items)\n",
    "            worry = run_operation(worry, self.operation)\n",
    "            if worry_div: # if handling worries, divide by three\n",
    "                worry = int(worry/3)\n",
    "            # use product of divisors to maintain divisibility but avoid big worry ints\n",
    "            worry = worry%mod_lcm\n",
    "            # test to find which monkey the item is thrown to\n",
    "            if worry%self.test == 0:\n",
    "                throws.append((self.iftrue, worry))\n",
    "            else: throws.append((self.iffalse, worry))\n",
    "            self.items = []\n",
    "        return throws"
   ]
  },
  {
   "cell_type": "code",
   "execution_count": 338,
   "id": "aa1b5508",
   "metadata": {},
   "outputs": [],
   "source": [
    "def run_operation(data, directions):\n",
    "    (op, amount) = directions\n",
    "    # if based on old worry value update amount to reflect this\n",
    "    if amount=='old': amount = data\n",
    "    # update worry value from directions\n",
    "    if op=='*': data *= int(amount)\n",
    "    else: data += int(amount)\n",
    "    return data"
   ]
  },
  {
   "cell_type": "code",
   "execution_count": 339,
   "id": "1d65cf7b",
   "metadata": {},
   "outputs": [],
   "source": [
    "def list_product(ls, init=1):\n",
    "    for i in ls: init *= i\n",
    "    return init"
   ]
  },
  {
   "cell_type": "code",
   "execution_count": 340,
   "id": "2a20314c",
   "metadata": {},
   "outputs": [],
   "source": [
    "def read_input(filename):\n",
    "    monkeys = []\n",
    "    with open(filename) as f:\n",
    "        data = f.read().splitlines()\n",
    "    # read items from raw text format\n",
    "    def read_items(raw):\n",
    "        return list(map(int, raw.split(': ')[-1].split(', ')))\n",
    "    # function to get basic operation info from raw text format\n",
    "    def get_operation(raw):\n",
    "        op = raw.split()[-2]\n",
    "        amount = raw.split()[-1]\n",
    "        return (op, amount)\n",
    "    # read in each monkey attribute from raw text data (disgusting, sorry)\n",
    "    for i in range(int((len(data)+1)/7)):\n",
    "        monkey_n = Monkey(int(data[7*i].split()[-1][:-1]),\n",
    "                         read_items(data[7*i+1]),\n",
    "                         get_operation(data[7*i+2]),\n",
    "                         int(data[7*i+3].split()[-1]),\n",
    "                         int(data[7*i+4].split()[-1]),\n",
    "                         int(data[7*i+5].split()[-1]),\n",
    "                          0)\n",
    "        monkeys.append(monkey_n)\n",
    "    return monkeys"
   ]
  },
  {
   "cell_type": "code",
   "execution_count": 341,
   "id": "8e890193",
   "metadata": {},
   "outputs": [],
   "source": [
    "def run_round(monkeys, worry_div, mod_lcm):\n",
    "    # each monkey has their turn, then throws to other monkeys based on their results\n",
    "    for monkey in monkeys:\n",
    "        throws = monkey.take_turn(worry_div=worry_div, mod_lcm=mod_lcm)\n",
    "        for throw in throws:\n",
    "            monkeys[throw[0]].items.append(throw[1])\n",
    "\n",
    "    return monkeys"
   ]
  },
  {
   "cell_type": "code",
   "execution_count": 342,
   "id": "a7dbc40c",
   "metadata": {},
   "outputs": [],
   "source": [
    "def items_inspected_n_rounds(filename, n_rounds, top_n=2, worry_div=True):\n",
    "    monkeys = read_input(filename)\n",
    "    mod_lcm = list_product([m.test for m in monkeys]) # using product as all primes - can be improved!\n",
    "    \n",
    "    for _ in range(n_rounds):\n",
    "        monkeys = run_round(monkeys, worry_div, mod_lcm)\n",
    "    \n",
    "    # return the product of specified top n inspections\n",
    "    insp = sorted([m.inspections for m in monkeys], reverse=True)\n",
    "    return list_product(insp[:2])"
   ]
  },
  {
   "cell_type": "code",
   "execution_count": 343,
   "id": "c1b3567b",
   "metadata": {},
   "outputs": [
    {
     "data": {
      "text/plain": [
       "113232"
      ]
     },
     "execution_count": 343,
     "metadata": {},
     "output_type": "execute_result"
    }
   ],
   "source": [
    "items_inspected_n_rounds('input.txt', 20)"
   ]
  },
  {
   "cell_type": "code",
   "execution_count": 344,
   "id": "06cd217a",
   "metadata": {},
   "outputs": [
    {
     "data": {
      "text/plain": [
       "29703395016"
      ]
     },
     "execution_count": 344,
     "metadata": {},
     "output_type": "execute_result"
    }
   ],
   "source": [
    "items_inspected_n_rounds('input.txt', 10000, worry_div=False)"
   ]
  },
  {
   "cell_type": "code",
   "execution_count": null,
   "id": "9604c7fa",
   "metadata": {},
   "outputs": [],
   "source": []
  }
 ],
 "metadata": {
  "kernelspec": {
   "display_name": "Python 3 (ipykernel)",
   "language": "python",
   "name": "python3"
  },
  "language_info": {
   "codemirror_mode": {
    "name": "ipython",
    "version": 3
   },
   "file_extension": ".py",
   "mimetype": "text/x-python",
   "name": "python",
   "nbconvert_exporter": "python",
   "pygments_lexer": "ipython3",
   "version": "3.7.9"
  }
 },
 "nbformat": 4,
 "nbformat_minor": 5
}
