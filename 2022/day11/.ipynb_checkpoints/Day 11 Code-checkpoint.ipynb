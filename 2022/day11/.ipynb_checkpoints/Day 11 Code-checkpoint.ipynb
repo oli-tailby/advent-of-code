{
 "cells": [
  {
   "cell_type": "code",
   "execution_count": 1,
   "id": "2a20314c",
   "metadata": {},
   "outputs": [],
   "source": [
    "# read text input and convert into numpy array matrix\n",
    "def read_input(filename):\n",
    "    with open(filename) as f:\n",
    "        data = f.read().splitlines()\n",
    "        \n",
    "    \n",
    "    \n",
    "    return data"
   ]
  },
  {
   "cell_type": "code",
   "execution_count": 2,
   "id": "cc37fe21",
   "metadata": {},
   "outputs": [
    {
     "data": {
      "text/plain": [
       "['Monkey 0:',\n",
       " '  Starting items: 79, 98',\n",
       " '  Operation: new = old * 19',\n",
       " '  Test: divisible by 23',\n",
       " '    If true: throw to monkey 2',\n",
       " '    If false: throw to monkey 3',\n",
       " '',\n",
       " 'Monkey 1:',\n",
       " '  Starting items: 54, 65, 75, 74',\n",
       " '  Operation: new = old + 6',\n",
       " '  Test: divisible by 19',\n",
       " '    If true: throw to monkey 2',\n",
       " '    If false: throw to monkey 0',\n",
       " '',\n",
       " 'Monkey 2:',\n",
       " '  Starting items: 79, 60, 97',\n",
       " '  Operation: new = old * old',\n",
       " '  Test: divisible by 13',\n",
       " '    If true: throw to monkey 1',\n",
       " '    If false: throw to monkey 3',\n",
       " '',\n",
       " 'Monkey 3:',\n",
       " '  Starting items: 74',\n",
       " '  Operation: new = old + 3',\n",
       " '  Test: divisible by 17',\n",
       " '    If true: throw to monkey 0',\n",
       " '    If false: throw to monkey 1']"
      ]
     },
     "execution_count": 2,
     "metadata": {},
     "output_type": "execute_result"
    }
   ],
   "source": [
    "read_input('testinput.txt')"
   ]
  },
  {
   "cell_type": "code",
   "execution_count": null,
   "id": "edf1e7bd",
   "metadata": {},
   "outputs": [],
   "source": []
  },
  {
   "cell_type": "code",
   "execution_count": null,
   "id": "201b2dfc",
   "metadata": {},
   "outputs": [],
   "source": []
  }
 ],
 "metadata": {
  "kernelspec": {
   "display_name": "Python 3 (ipykernel)",
   "language": "python",
   "name": "python3"
  },
  "language_info": {
   "codemirror_mode": {
    "name": "ipython",
    "version": 3
   },
   "file_extension": ".py",
   "mimetype": "text/x-python",
   "name": "python",
   "nbconvert_exporter": "python",
   "pygments_lexer": "ipython3",
   "version": "3.7.9"
  }
 },
 "nbformat": 4,
 "nbformat_minor": 5
}
