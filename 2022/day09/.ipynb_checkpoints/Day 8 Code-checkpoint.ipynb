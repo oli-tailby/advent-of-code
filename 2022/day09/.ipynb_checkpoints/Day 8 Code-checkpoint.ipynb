{
 "cells": [
  {
   "cell_type": "code",
   "execution_count": 1,
   "id": "d446dd6b",
   "metadata": {},
   "outputs": [],
   "source": [
    "import numpy as np"
   ]
  },
  {
   "cell_type": "code",
   "execution_count": 2,
   "id": "2a20314c",
   "metadata": {},
   "outputs": [],
   "source": [
    "# read text input and convert into numpy array matrix\n",
    "def read_input(filename):\n",
    "    with open(filename) as f:\n",
    "        data_raw = f.read().splitlines()\n",
    "\n",
    "    # seperate characters of substring for conversion into numpy array\n",
    "    data = [[*list(map(int,string))] for string in data_raw]\n",
    "    data = np.array(data)\n",
    "    \n",
    "    return data"
   ]
  },
  {
   "cell_type": "markdown",
   "id": "8899fe8a",
   "metadata": {},
   "source": [
    "## Part 1\n",
    "\n",
    "Uses a function (*visible_trees_lhs*) to return the 'visible trees' from the left of a matrix in numpy array form.\n",
    "\n",
    "This function is applied repeatedly to transposed matrices with the grid orientated in each of the four possible perspectives (left, top, bottom, right), the results returned to the 'usual' orientation, and the results combined."
   ]
  },
  {
   "cell_type": "code",
   "execution_count": 32,
   "id": "972f7b64",
   "metadata": {},
   "outputs": [],
   "source": [
    "# for a given numpy array, find the trees visible from the LHS\n",
    "# see https://adventofcode.com/2022/day/8 for context\n",
    "def visible_trees_lhs(array):\n",
    "    results = array.copy()\n",
    "    for r_ind, row in enumerate(array):\n",
    "        for i_ind, i in enumerate(row):\n",
    "            # if it's not the first tree or bigger than any other tree, it must be invisible\n",
    "            # to show this set the height to -1 \n",
    "            if not(i_ind==0 or (i > max(results[r_ind][:i_ind]))):\n",
    "                results[r_ind][i_ind] = -1\n",
    "    \n",
    "    return results"
   ]
  },
  {
   "cell_type": "code",
   "execution_count": 4,
   "id": "08bc89f3",
   "metadata": {},
   "outputs": [],
   "source": [
    "# combine views by taking the max information visible at a point from all directions\n",
    "def combine_views(array_list):\n",
    "    combined = array_list[0]\n",
    "    for i in array_list:\n",
    "        combined = np.maximum(combined, i)\n",
    "    return combined"
   ]
  },
  {
   "cell_type": "code",
   "execution_count": 5,
   "id": "1025dd8b",
   "metadata": {},
   "outputs": [],
   "source": [
    "# apply visible trees in all directions and combine result\n",
    "def visible_trees(filename):\n",
    "    input_raw = read_input(filename)\n",
    "    \n",
    "    # transform input and apply function to represent looking from all directions\n",
    "    lhs = visible_trees_lhs(input_raw)\n",
    "    ts = visible_trees_lhs(input_raw.transpose())\n",
    "    bs = visible_trees_lhs(input_raw[::-1,::-1].transpose())\n",
    "    rhs = visible_trees_lhs((input_raw.transpose())[::-1,::-1].transpose())\n",
    "    \n",
    "    # transform back to normal orientation\n",
    "    ts = ts.transpose()\n",
    "    bs = bs[::-1,::-1].transpose()\n",
    "    rhs = (rhs.transpose())[::-1,::-1].transpose()\n",
    "    \n",
    "    # combine results to get all visible trees\n",
    "    results = combine_views([lhs, rhs, ts, bs])\n",
    "    \n",
    "    return np.count_nonzero(results >= 0)"
   ]
  },
  {
   "cell_type": "code",
   "execution_count": 6,
   "id": "f56e5146",
   "metadata": {},
   "outputs": [
    {
     "data": {
      "text/plain": [
       "1533"
      ]
     },
     "execution_count": 6,
     "metadata": {},
     "output_type": "execute_result"
    }
   ],
   "source": [
    "visible_trees('input.txt')"
   ]
  },
  {
   "cell_type": "markdown",
   "id": "1fe95895",
   "metadata": {},
   "source": [
    "## Part 2\n",
    "\n",
    "Again uses a function (*horizontal_right_trees*) only from the left of a matrix in numpy array form, this time to move through the list and count the visibility distance (eg. how far before a same-size or higher tree blocks the way)\n",
    "\n",
    "This function is applied repeatedly to transposed matrices with the grid orientated in each of the four possible perspectives (left, top, bottom, right), the results returned to the 'usual' orientation, and the results combined."
   ]
  },
  {
   "cell_type": "code",
   "execution_count": 29,
   "id": "bfc94bd2",
   "metadata": {},
   "outputs": [],
   "source": [
    "# for each point in the grid, move right and check if visible\n",
    "def horizontal_right_trees(array):\n",
    "    results = array.copy()\n",
    "    for r_ind, row in enumerate(array):\n",
    "        for i_ind, i in enumerate(row):\n",
    "            # if at the edge, return 0\n",
    "            if len(results[r_ind][i_ind:]) == 1:\n",
    "                results[r_ind][i_ind:] = 0\n",
    "            else:\n",
    "                view = 0\n",
    "                # if not at an edge, move forwards until visibility is lost\n",
    "                for j in results[r_ind][i_ind+1:]:\n",
    "                    view += 1\n",
    "                    if j >= i: \n",
    "                        break\n",
    "                results[r_ind][i_ind] = view\n",
    "    return results"
   ]
  },
  {
   "cell_type": "code",
   "execution_count": 30,
   "id": "38a29ee6",
   "metadata": {},
   "outputs": [],
   "source": [
    "def tree_sight(filename):\n",
    "    input_raw = read_input(filename)\n",
    "    \n",
    "    # transform input and apply function to represent score in all directions\n",
    "    lhs = horizontal_right_trees(input_raw)\n",
    "    ts = horizontal_right_trees(input_raw.transpose())\n",
    "    bs = horizontal_right_trees(input_raw[::-1,::-1].transpose())\n",
    "    rhs = horizontal_right_trees((input_raw.transpose())[::-1,::-1].transpose())\n",
    "    \n",
    "    # transform back to normal orientation\n",
    "    ts = ts.transpose()\n",
    "    bs = bs[::-1,::-1].transpose()\n",
    "    rhs = (rhs.transpose())[::-1,::-1].transpose()\n",
    "    \n",
    "    # combine results to get all visible trees\n",
    "    results = lhs * rhs * ts * bs\n",
    "    \n",
    "    return results.max()"
   ]
  },
  {
   "cell_type": "code",
   "execution_count": 31,
   "id": "cd475c3f",
   "metadata": {},
   "outputs": [
    {
     "data": {
      "text/plain": [
       "345744"
      ]
     },
     "execution_count": 31,
     "metadata": {},
     "output_type": "execute_result"
    }
   ],
   "source": [
    "tree_sight('input.txt')"
   ]
  },
  {
   "cell_type": "code",
   "execution_count": null,
   "id": "f8a4bdf3",
   "metadata": {},
   "outputs": [],
   "source": []
  },
  {
   "cell_type": "code",
   "execution_count": null,
   "id": "1161468e",
   "metadata": {},
   "outputs": [],
   "source": []
  }
 ],
 "metadata": {
  "kernelspec": {
   "display_name": "Python 3 (ipykernel)",
   "language": "python",
   "name": "python3"
  },
  "language_info": {
   "codemirror_mode": {
    "name": "ipython",
    "version": 3
   },
   "file_extension": ".py",
   "mimetype": "text/x-python",
   "name": "python",
   "nbconvert_exporter": "python",
   "pygments_lexer": "ipython3",
   "version": "3.7.9"
  }
 },
 "nbformat": 4,
 "nbformat_minor": 5
}
