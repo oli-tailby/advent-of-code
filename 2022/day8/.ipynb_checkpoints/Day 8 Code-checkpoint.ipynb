{
 "cells": [
  {
   "cell_type": "code",
   "execution_count": 17,
   "id": "df098b7f",
   "metadata": {},
   "outputs": [],
   "source": [
    "import numpy as np"
   ]
  },
  {
   "cell_type": "code",
   "execution_count": 83,
   "id": "2a20314c",
   "metadata": {},
   "outputs": [],
   "source": [
    "def read_input(filename):\n",
    "    with open(filename) as f:\n",
    "        data_raw = f.read().splitlines()\n",
    "\n",
    "    # seperate characters of substring for conversion into numpy array\n",
    "    data = [[*list(map(int,string))] for string in data_raw]\n",
    "    data = np.array(data)\n",
    "    \n",
    "    return data"
   ]
  },
  {
   "cell_type": "markdown",
   "id": "2a51f12b",
   "metadata": {},
   "source": [
    "## Part 1"
   ]
  },
  {
   "cell_type": "code",
   "execution_count": 146,
   "id": "972f7b64",
   "metadata": {},
   "outputs": [],
   "source": [
    "# for a given numpy array, find the trees visible from the RHS\n",
    "# see https://adventofcode.com/2022/day/8 for context\n",
    "def visible_trees_lhs(array):\n",
    "    results = array.copy()\n",
    "    for r_ind, row in enumerate(array):\n",
    "        for i_ind, i in enumerate(row):\n",
    "            if i_ind==0:\n",
    "                results[r_ind][i_ind] = i\n",
    "            elif i <= max(results[r_ind][:i_ind]):\n",
    "                results[r_ind][i_ind] = -1\n",
    "    \n",
    "    return results"
   ]
  },
  {
   "cell_type": "code",
   "execution_count": 170,
   "id": "08bc89f3",
   "metadata": {},
   "outputs": [],
   "source": [
    "# combine views by taking the max information visible at a point from all directions\n",
    "def combine_views(array_list):\n",
    "    combined = array_list[0]\n",
    "    for i in array_list:\n",
    "        combined = np.maximum(combined, i)\n",
    "    return combined"
   ]
  },
  {
   "cell_type": "code",
   "execution_count": 174,
   "id": "7c41f4d2",
   "metadata": {},
   "outputs": [],
   "source": [
    "# apply visible trees in all directions and combine result\n",
    "def visible_trees(filename):\n",
    "    input_raw = read_input(filename)\n",
    "    \n",
    "    # transform input and apply function to represent looking from all directions\n",
    "    lhs = visible_trees_lhs(input_raw)\n",
    "    ts = visible_trees_lhs(input_raw.transpose())\n",
    "    bs = visible_trees_lhs(input_raw[::-1,::-1].transpose())\n",
    "    rhs = visible_trees_lhs((input_raw.transpose())[::-1,::-1].transpose())\n",
    "    \n",
    "    # transform back to normal orientation\n",
    "    ts = ts.transpose()\n",
    "    bs = bs[::-1,::-1].transpose()\n",
    "    rhs = (rhs.transpose())[::-1,::-1].transpose()\n",
    "    \n",
    "    # combine results to get all visible trees\n",
    "    results = combine_views([lhs, rhs, ts, bs])\n",
    "    \n",
    "    return np.count_nonzero(results >= 0)"
   ]
  },
  {
   "cell_type": "code",
   "execution_count": 217,
   "id": "1b64c77b",
   "metadata": {},
   "outputs": [
    {
     "data": {
      "text/plain": [
       "1533"
      ]
     },
     "execution_count": 217,
     "metadata": {},
     "output_type": "execute_result"
    }
   ],
   "source": [
    "visible_trees('input.txt')"
   ]
  },
  {
   "cell_type": "markdown",
   "id": "cf695427",
   "metadata": {},
   "source": [
    "## Part 2"
   ]
  },
  {
   "cell_type": "code",
   "execution_count": 239,
   "id": "9d0f40d0",
   "metadata": {},
   "outputs": [],
   "source": [
    "# for each point in the grid, move right and check if visible\n",
    "def horizontal_right_trees(array):\n",
    "    results = array.copy()\n",
    "    for r_ind, row in enumerate(array):\n",
    "        for i_ind, i in enumerate(row):\n",
    "            # if at an edge, return 0\n",
    "            if len(results[r_ind][i_ind:]) == 1:\n",
    "                results[r_ind][i_ind:] = 0\n",
    "            else:\n",
    "                view = 0\n",
    "                # if not at an edge, move forwards until visibility is lost\n",
    "                for j in results[r_ind][i_ind+1:]:\n",
    "                    if j < i:\n",
    "                        view += 1\n",
    "                    else:\n",
    "                        view += 1\n",
    "                        break\n",
    "                results[r_ind][i_ind] = view\n",
    "    return results"
   ]
  },
  {
   "cell_type": "code",
   "execution_count": 244,
   "id": "8c738933",
   "metadata": {},
   "outputs": [],
   "source": [
    "def tree_sight(filename):\n",
    "    input_raw = read_input(filename)\n",
    "    \n",
    "    # transform input and apply function to represent score in all directions\n",
    "    lhs = horizontal_right_trees(input_raw)\n",
    "    ts = horizontal_right_trees(input_raw.transpose())\n",
    "    bs = horizontal_right_trees(input_raw[::-1,::-1].transpose())\n",
    "    rhs = horizontal_right_trees((input_raw.transpose())[::-1,::-1].transpose())\n",
    "    \n",
    "    # transform back to normal orientation\n",
    "    ts = ts.transpose()\n",
    "    bs = bs[::-1,::-1].transpose()\n",
    "    rhs = (rhs.transpose())[::-1,::-1].transpose()\n",
    "    \n",
    "    # combine results to get all visible trees\n",
    "    results = lhs * rhs * ts * bs\n",
    "    \n",
    "    return results.max()"
   ]
  },
  {
   "cell_type": "code",
   "execution_count": 245,
   "id": "f88de57a",
   "metadata": {},
   "outputs": [
    {
     "data": {
      "text/plain": [
       "345744"
      ]
     },
     "execution_count": 245,
     "metadata": {},
     "output_type": "execute_result"
    }
   ],
   "source": [
    "tree_sight('input.txt')"
   ]
  },
  {
   "cell_type": "code",
   "execution_count": null,
   "id": "708c28c4",
   "metadata": {},
   "outputs": [],
   "source": []
  }
 ],
 "metadata": {
  "kernelspec": {
   "display_name": "Python 3 (ipykernel)",
   "language": "python",
   "name": "python3"
  },
  "language_info": {
   "codemirror_mode": {
    "name": "ipython",
    "version": 3
   },
   "file_extension": ".py",
   "mimetype": "text/x-python",
   "name": "python",
   "nbconvert_exporter": "python",
   "pygments_lexer": "ipython3",
   "version": "3.7.9"
  }
 },
 "nbformat": 4,
 "nbformat_minor": 5
}
