{
 "cells": [
  {
   "cell_type": "code",
   "execution_count": 17,
   "id": "3bc95d5b",
   "metadata": {},
   "outputs": [],
   "source": [
    "# Data cleaning from AOC format\n",
    "# See https://adventofcode.com/2022/day/5\n",
    "def distict_run(filename, n):\n",
    "    input_raw = open(filename).read()\n",
    "    \n",
    "    for ind in input_raw:\n",
    "        test = input_raw[ind:ind+n]\n",
    "        if len(test) == len(set(test)):\n",
    "            return ind+n"
   ]
  },
  {
   "cell_type": "code",
   "execution_count": 19,
   "id": "3664d9e8",
   "metadata": {},
   "outputs": [
    {
     "data": {
      "text/plain": [
       "1658"
      ]
     },
     "execution_count": 19,
     "metadata": {},
     "output_type": "execute_result"
    }
   ],
   "source": [
    "distict_run('input.txt', 4)"
   ]
  },
  {
   "cell_type": "code",
   "execution_count": 21,
   "id": "3dfec74d",
   "metadata": {},
   "outputs": [
    {
     "data": {
      "text/plain": [
       "2260"
      ]
     },
     "execution_count": 21,
     "metadata": {},
     "output_type": "execute_result"
    }
   ],
   "source": [
    "distict_run('input.txt', 14)"
   ]
  }
 ],
 "metadata": {
  "kernelspec": {
   "display_name": "Python 3 (ipykernel)",
   "language": "python",
   "name": "python3"
  },
  "language_info": {
   "codemirror_mode": {
    "name": "ipython",
    "version": 3
   },
   "file_extension": ".py",
   "mimetype": "text/x-python",
   "name": "python",
   "nbconvert_exporter": "python",
   "pygments_lexer": "ipython3",
   "version": "3.7.9"
  }
 },
 "nbformat": 4,
 "nbformat_minor": 5
}
