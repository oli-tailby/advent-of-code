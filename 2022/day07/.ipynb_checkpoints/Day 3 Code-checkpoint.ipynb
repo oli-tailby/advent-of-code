{
 "cells": [
  {
   "cell_type": "code",
   "execution_count": 1,
   "id": "2ec99014",
   "metadata": {},
   "outputs": [],
   "source": [
    "def rucksack_input(filename):\n",
    "    with open(filename) as f:\n",
    "        sacks = f.read().splitlines()\n",
    "\n",
    "    return sacks"
   ]
  },
  {
   "cell_type": "code",
   "execution_count": 2,
   "id": "9a74a64f",
   "metadata": {},
   "outputs": [],
   "source": [
    "def split_sacks(sacks):\n",
    "    split_sacks = [[i[int(len(i)/2):], i[:int(len(i)/2)]] for i in sacks]\n",
    "    return split_sacks"
   ]
  },
  {
   "cell_type": "code",
   "execution_count": 3,
   "id": "0c9c303c",
   "metadata": {},
   "outputs": [],
   "source": [
    "def common_items(sack):\n",
    "    common = set(sack[0]).intersection(*sack)\n",
    "    return list(common)"
   ]
  },
  {
   "cell_type": "code",
   "execution_count": 4,
   "id": "94f57c8c",
   "metadata": {},
   "outputs": [],
   "source": [
    "def priority(item):\n",
    "    priority = ord(item.lower()) - 96\n",
    "    if item.islower():\n",
    "        return priority\n",
    "    else:\n",
    "        return priority + 26"
   ]
  },
  {
   "cell_type": "markdown",
   "id": "07b0b43e",
   "metadata": {},
   "source": [
    "## Part 1"
   ]
  },
  {
   "cell_type": "code",
   "execution_count": 5,
   "id": "97688120",
   "metadata": {},
   "outputs": [],
   "source": [
    "def sum_priority(filename):\n",
    "    total = 0\n",
    "    sacks = rucksack_input(filename)\n",
    "    split = split_sacks(sacks)\n",
    "    for i in split:\n",
    "        common = common_items(i)\n",
    "        total += priority(common[0])\n",
    "    return total        "
   ]
  },
  {
   "cell_type": "code",
   "execution_count": 6,
   "id": "9cdb252f",
   "metadata": {},
   "outputs": [
    {
     "data": {
      "text/plain": [
       "8240"
      ]
     },
     "execution_count": 6,
     "metadata": {},
     "output_type": "execute_result"
    }
   ],
   "source": [
    "sum_priority('input.txt')"
   ]
  },
  {
   "cell_type": "markdown",
   "id": "b864e03c",
   "metadata": {},
   "source": [
    "## Part 2"
   ]
  },
  {
   "cell_type": "code",
   "execution_count": 7,
   "id": "346f2ac8",
   "metadata": {},
   "outputs": [],
   "source": [
    "def get_groups(sacks):\n",
    "    groups = [sacks[i:i+3] for i in range(0, len(sacks), 3)] \n",
    "    return groups"
   ]
  },
  {
   "cell_type": "code",
   "execution_count": 11,
   "id": "b781aa6e",
   "metadata": {},
   "outputs": [],
   "source": [
    "def group_sum_priority(filename):\n",
    "    total = 0\n",
    "    sacks = rucksack_input(filename)\n",
    "    groups = get_groups(sacks)\n",
    "    for i in groups:\n",
    "        common = common_items(i)\n",
    "        total += priority(common[0])\n",
    "    \n",
    "    return total"
   ]
  },
  {
   "cell_type": "code",
   "execution_count": 13,
   "id": "13c844c2",
   "metadata": {},
   "outputs": [
    {
     "data": {
      "text/plain": [
       "2587"
      ]
     },
     "execution_count": 13,
     "metadata": {},
     "output_type": "execute_result"
    }
   ],
   "source": [
    "group_sum_priority('input.txt')"
   ]
  },
  {
   "cell_type": "code",
   "execution_count": null,
   "id": "b01e1f3e",
   "metadata": {},
   "outputs": [],
   "source": []
  }
 ],
 "metadata": {
  "kernelspec": {
   "display_name": "Python 3 (ipykernel)",
   "language": "python",
   "name": "python3"
  },
  "language_info": {
   "codemirror_mode": {
    "name": "ipython",
    "version": 3
   },
   "file_extension": ".py",
   "mimetype": "text/x-python",
   "name": "python",
   "nbconvert_exporter": "python",
   "pygments_lexer": "ipython3",
   "version": "3.7.9"
  }
 },
 "nbformat": 4,
 "nbformat_minor": 5
}
