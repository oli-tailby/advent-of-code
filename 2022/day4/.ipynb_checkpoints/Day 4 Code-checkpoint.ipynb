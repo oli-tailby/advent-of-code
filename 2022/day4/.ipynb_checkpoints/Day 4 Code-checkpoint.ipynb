{
 "cells": [
  {
   "cell_type": "code",
   "execution_count": 1,
   "id": "2ec99014",
   "metadata": {},
   "outputs": [],
   "source": [
    "def tasks_input(filename):\n",
    "    with open(filename) as f:\n",
    "        pair_tasks = f.read().splitlines()\n",
    "\n",
    "    tasks = [i.split(',') for i in pair_tasks]\n",
    "    \n",
    "    for j, task in enumerate(tasks):\n",
    "        tasks[j] = [map(int,n.split('-')) for n in task]\n",
    "        \n",
    "    return tasks"
   ]
  },
  {
   "cell_type": "code",
   "execution_count": 2,
   "id": "3c49764c",
   "metadata": {},
   "outputs": [],
   "source": [
    "def count_contained(tasks):\n",
    "    total = 0\n",
    "    for [[a,b],[m,n]] in tasks:\n",
    "        a_in_b = (a>=m)&(b<=n)\n",
    "        b_in_a = (m>=a)&(n<=b)\n",
    "        if (a_in_b | b_in_a):\n",
    "            total += 1\n",
    "    return total"
   ]
  },
  {
   "cell_type": "markdown",
   "id": "beacbd37",
   "metadata": {},
   "source": [
    "## Part 1"
   ]
  },
  {
   "cell_type": "code",
   "execution_count": 3,
   "id": "54028de0",
   "metadata": {},
   "outputs": [],
   "source": [
    "def count_contained_tasks(filename):\n",
    "    tasks = tasks_input(filename)\n",
    "    count = count_contained(tasks)\n",
    "    return count"
   ]
  },
  {
   "cell_type": "code",
   "execution_count": 4,
   "id": "1471f370",
   "metadata": {},
   "outputs": [
    {
     "data": {
      "text/plain": [
       "450"
      ]
     },
     "execution_count": 4,
     "metadata": {},
     "output_type": "execute_result"
    }
   ],
   "source": [
    "count_contained_tasks('input.txt')"
   ]
  },
  {
   "cell_type": "markdown",
   "id": "b645b202",
   "metadata": {},
   "source": [
    "## Part 2"
   ]
  },
  {
   "cell_type": "code",
   "execution_count": 33,
   "id": "d2ba0ba2",
   "metadata": {},
   "outputs": [],
   "source": [
    "def count_overlap(tasks):\n",
    "    total = 0\n",
    "    for [[a,b],[m,n]] in tasks:\n",
    "        if not ((m>b)|(n<a)):\n",
    "            total += 1\n",
    "    return total"
   ]
  },
  {
   "cell_type": "code",
   "execution_count": 34,
   "id": "a0ff8e6a",
   "metadata": {},
   "outputs": [],
   "source": [
    "def count_overlap_tasks(filename):\n",
    "    tasks = tasks_input(filename)\n",
    "    count = count_overlap(tasks)\n",
    "    return count"
   ]
  },
  {
   "cell_type": "code",
   "execution_count": 37,
   "id": "1dabd668",
   "metadata": {},
   "outputs": [
    {
     "data": {
      "text/plain": [
       "837"
      ]
     },
     "execution_count": 37,
     "metadata": {},
     "output_type": "execute_result"
    }
   ],
   "source": [
    "count_overlap_tasks('input.txt')"
   ]
  },
  {
   "cell_type": "code",
   "execution_count": null,
   "id": "58d617e5",
   "metadata": {},
   "outputs": [],
   "source": []
  }
 ],
 "metadata": {
  "kernelspec": {
   "display_name": "Python 3 (ipykernel)",
   "language": "python",
   "name": "python3"
  },
  "language_info": {
   "codemirror_mode": {
    "name": "ipython",
    "version": 3
   },
   "file_extension": ".py",
   "mimetype": "text/x-python",
   "name": "python",
   "nbconvert_exporter": "python",
   "pygments_lexer": "ipython3",
   "version": "3.7.9"
  }
 },
 "nbformat": 4,
 "nbformat_minor": 5
}
