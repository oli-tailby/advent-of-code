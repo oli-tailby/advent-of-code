{
 "cells": [
  {
   "cell_type": "code",
   "execution_count": 56,
   "id": "2ec99014",
   "metadata": {},
   "outputs": [],
   "source": [
    "def tasks_input(filename):\n",
    "    with open(filename) as f:\n",
    "        pair_tasks = f.read().splitlines()\n",
    "\n",
    "    tasks = [i.split(',') for i in pair_tasks]\n",
    "    \n",
    "    for j, task in enumerate(tasks):\n",
    "        tasks[j] = [n.split('-') for n in task]\n",
    "        for i in task:\n",
    "            tasks[j][i] = list(range(int(tasks[j][i][0]), int(tasks[j][i][1]+1)))\n",
    "    \n",
    "    return tasks"
   ]
  },
  {
   "cell_type": "code",
   "execution_count": 57,
   "id": "055d6d32",
   "metadata": {},
   "outputs": [
    {
     "ename": "TypeError",
     "evalue": "list indices must be integers or slices, not str",
     "output_type": "error",
     "traceback": [
      "\u001b[0;31m---------------------------------------------------------------------------\u001b[0m",
      "\u001b[0;31mTypeError\u001b[0m                                 Traceback (most recent call last)",
      "\u001b[0;32m/var/folders/yf/45brfld52xj17302pxw9726w0000gn/T/ipykernel_11522/2042725670.py\u001b[0m in \u001b[0;36m<module>\u001b[0;34m\u001b[0m\n\u001b[0;32m----> 1\u001b[0;31m \u001b[0mtasks\u001b[0m \u001b[0;34m=\u001b[0m \u001b[0mtasks_input\u001b[0m\u001b[0;34m(\u001b[0m\u001b[0;34m'testinput.txt'\u001b[0m\u001b[0;34m)\u001b[0m\u001b[0;34m\u001b[0m\u001b[0;34m\u001b[0m\u001b[0m\n\u001b[0m",
      "\u001b[0;32m/var/folders/yf/45brfld52xj17302pxw9726w0000gn/T/ipykernel_11522/778059209.py\u001b[0m in \u001b[0;36mtasks_input\u001b[0;34m(filename)\u001b[0m\n\u001b[1;32m      8\u001b[0m         \u001b[0mtasks\u001b[0m\u001b[0;34m[\u001b[0m\u001b[0mj\u001b[0m\u001b[0;34m]\u001b[0m \u001b[0;34m=\u001b[0m \u001b[0;34m[\u001b[0m\u001b[0mn\u001b[0m\u001b[0;34m.\u001b[0m\u001b[0msplit\u001b[0m\u001b[0;34m(\u001b[0m\u001b[0;34m'-'\u001b[0m\u001b[0;34m)\u001b[0m \u001b[0;32mfor\u001b[0m \u001b[0mn\u001b[0m \u001b[0;32min\u001b[0m \u001b[0mtask\u001b[0m\u001b[0;34m]\u001b[0m\u001b[0;34m\u001b[0m\u001b[0;34m\u001b[0m\u001b[0m\n\u001b[1;32m      9\u001b[0m         \u001b[0;32mfor\u001b[0m \u001b[0mi\u001b[0m \u001b[0;32min\u001b[0m \u001b[0mtask\u001b[0m\u001b[0;34m:\u001b[0m\u001b[0;34m\u001b[0m\u001b[0;34m\u001b[0m\u001b[0m\n\u001b[0;32m---> 10\u001b[0;31m             \u001b[0mtasks\u001b[0m\u001b[0;34m[\u001b[0m\u001b[0mj\u001b[0m\u001b[0;34m]\u001b[0m\u001b[0;34m[\u001b[0m\u001b[0mi\u001b[0m\u001b[0;34m]\u001b[0m \u001b[0;34m=\u001b[0m \u001b[0mlist\u001b[0m\u001b[0;34m(\u001b[0m\u001b[0mrange\u001b[0m\u001b[0;34m(\u001b[0m\u001b[0mint\u001b[0m\u001b[0;34m(\u001b[0m\u001b[0mtasks\u001b[0m\u001b[0;34m[\u001b[0m\u001b[0mj\u001b[0m\u001b[0;34m]\u001b[0m\u001b[0;34m[\u001b[0m\u001b[0mi\u001b[0m\u001b[0;34m]\u001b[0m\u001b[0;34m[\u001b[0m\u001b[0;36m0\u001b[0m\u001b[0;34m]\u001b[0m\u001b[0;34m)\u001b[0m\u001b[0;34m,\u001b[0m \u001b[0mint\u001b[0m\u001b[0;34m(\u001b[0m\u001b[0mtasks\u001b[0m\u001b[0;34m[\u001b[0m\u001b[0mj\u001b[0m\u001b[0;34m]\u001b[0m\u001b[0;34m[\u001b[0m\u001b[0mi\u001b[0m\u001b[0;34m]\u001b[0m\u001b[0;34m[\u001b[0m\u001b[0;36m1\u001b[0m\u001b[0;34m]\u001b[0m\u001b[0;34m+\u001b[0m\u001b[0;36m1\u001b[0m\u001b[0;34m)\u001b[0m\u001b[0;34m)\u001b[0m\u001b[0;34m)\u001b[0m\u001b[0;34m\u001b[0m\u001b[0;34m\u001b[0m\u001b[0m\n\u001b[0m\u001b[1;32m     11\u001b[0m \u001b[0;34m\u001b[0m\u001b[0m\n\u001b[1;32m     12\u001b[0m     \u001b[0;32mreturn\u001b[0m \u001b[0mtasks\u001b[0m\u001b[0;34m\u001b[0m\u001b[0;34m\u001b[0m\u001b[0m\n",
      "\u001b[0;31mTypeError\u001b[0m: list indices must be integers or slices, not str"
     ]
    }
   ],
   "source": [
    "tasks = tasks_input('testinput.txt')"
   ]
  },
  {
   "cell_type": "code",
   "execution_count": 26,
   "id": "9a74a64f",
   "metadata": {},
   "outputs": [],
   "source": [
    "def tasks_range(tasks):\n",
    "    for j, task in enumerate(tasks):\n",
    "        tasks[j] = [n.split('-') for n in task]\n",
    "    return tasks"
   ]
  },
  {
   "cell_type": "code",
   "execution_count": 54,
   "id": "47e892be",
   "metadata": {},
   "outputs": [
    {
     "data": {
      "text/plain": [
       "[2, 3, 4]"
      ]
     },
     "execution_count": 54,
     "metadata": {},
     "output_type": "execute_result"
    }
   ],
   "source": [
    "list(range(2, 4+1))"
   ]
  },
  {
   "cell_type": "code",
   "execution_count": 45,
   "id": "bf255b86",
   "metadata": {},
   "outputs": [
    {
     "data": {
      "text/plain": [
       "['6', '8']"
      ]
     },
     "execution_count": 45,
     "metadata": {},
     "output_type": "execute_result"
    }
   ],
   "source": [
    "tasks_range[0][1]"
   ]
  },
  {
   "cell_type": "code",
   "execution_count": null,
   "id": "c7e3ef52",
   "metadata": {},
   "outputs": [],
   "source": [
    "def tasks_all(tasks_range):\n",
    "    "
   ]
  },
  {
   "cell_type": "code",
   "execution_count": 3,
   "id": "0c9c303c",
   "metadata": {},
   "outputs": [],
   "source": [
    "def common_items(sack):\n",
    "    common = set(sack[0]).intersection(*sack)\n",
    "    return list(common)"
   ]
  },
  {
   "cell_type": "code",
   "execution_count": 4,
   "id": "94f57c8c",
   "metadata": {},
   "outputs": [],
   "source": [
    "def priority(item):\n",
    "    priority = ord(item.lower()) - 96\n",
    "    if item.islower():\n",
    "        return priority\n",
    "    else:\n",
    "        return priority + 26"
   ]
  },
  {
   "cell_type": "markdown",
   "id": "07b0b43e",
   "metadata": {},
   "source": [
    "## Part 1"
   ]
  },
  {
   "cell_type": "code",
   "execution_count": 5,
   "id": "97688120",
   "metadata": {},
   "outputs": [],
   "source": [
    "def sum_priority(filename):\n",
    "    total = 0\n",
    "    sacks = rucksack_input(filename)\n",
    "    split = split_sacks(sacks)\n",
    "    for i in split:\n",
    "        common = common_items(i)\n",
    "        total += priority(common[0])\n",
    "    return total        "
   ]
  },
  {
   "cell_type": "code",
   "execution_count": 6,
   "id": "9cdb252f",
   "metadata": {},
   "outputs": [
    {
     "data": {
      "text/plain": [
       "8240"
      ]
     },
     "execution_count": 6,
     "metadata": {},
     "output_type": "execute_result"
    }
   ],
   "source": [
    "sum_priority('input.txt')"
   ]
  },
  {
   "cell_type": "markdown",
   "id": "b864e03c",
   "metadata": {},
   "source": [
    "## Part 2"
   ]
  },
  {
   "cell_type": "code",
   "execution_count": 7,
   "id": "346f2ac8",
   "metadata": {},
   "outputs": [],
   "source": [
    "def get_groups(sacks):\n",
    "    groups = [sacks[i:i+3] for i in range(0, len(sacks), 3)] \n",
    "    return groups"
   ]
  },
  {
   "cell_type": "code",
   "execution_count": 11,
   "id": "b781aa6e",
   "metadata": {},
   "outputs": [],
   "source": [
    "def group_sum_priority(filename):\n",
    "    total = 0\n",
    "    sacks = rucksack_input(filename)\n",
    "    groups = get_groups(sacks)\n",
    "    for i in groups:\n",
    "        common = common_items(i)\n",
    "        total += priority(common[0])\n",
    "    \n",
    "    return total"
   ]
  },
  {
   "cell_type": "code",
   "execution_count": 13,
   "id": "13c844c2",
   "metadata": {},
   "outputs": [
    {
     "data": {
      "text/plain": [
       "2587"
      ]
     },
     "execution_count": 13,
     "metadata": {},
     "output_type": "execute_result"
    }
   ],
   "source": [
    "group_sum_priority('input.txt')"
   ]
  },
  {
   "cell_type": "code",
   "execution_count": null,
   "id": "b01e1f3e",
   "metadata": {},
   "outputs": [],
   "source": []
  }
 ],
 "metadata": {
  "kernelspec": {
   "display_name": "Python 3 (ipykernel)",
   "language": "python",
   "name": "python3"
  },
  "language_info": {
   "codemirror_mode": {
    "name": "ipython",
    "version": 3
   },
   "file_extension": ".py",
   "mimetype": "text/x-python",
   "name": "python",
   "nbconvert_exporter": "python",
   "pygments_lexer": "ipython3",
   "version": "3.7.9"
  }
 },
 "nbformat": 4,
 "nbformat_minor": 5
}
