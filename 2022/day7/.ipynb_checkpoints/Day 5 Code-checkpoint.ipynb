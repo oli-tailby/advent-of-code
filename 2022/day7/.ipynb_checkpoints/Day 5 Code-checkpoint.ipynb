{
 "cells": [
  {
   "cell_type": "code",
   "execution_count": 72,
   "id": "2c8f5d7c",
   "metadata": {},
   "outputs": [],
   "source": [
    "# Function retaining only odd-indexed elements and converting to int\n",
    "# Used in input_clean\n",
    "def odd_index_ints(string):\n",
    "    odd_index = string[1::2]\n",
    "    output = tuple(map(int, odd_index))\n",
    "    return output"
   ]
  },
  {
   "cell_type": "code",
   "execution_count": 73,
   "id": "3bc95d5b",
   "metadata": {},
   "outputs": [],
   "source": [
    "# Data cleaning from AOC format\n",
    "# See https://adventofcode.com/2022/day/5\n",
    "def input_clean(filename):\n",
    "    with open(filename) as f:\n",
    "        input_raw = f.read().splitlines()\n",
    "\n",
    "    sep = input_raw.index('')\n",
    "    stacks_raw, label, procedure_raw = input_raw[:sep-1], input_raw[sep-1], input_raw[sep+1:]\n",
    "\n",
    "    stacks = [[] for x in range(int(label[-1]))]\n",
    "\n",
    "    for row in stacks_raw:\n",
    "        for ind, box in enumerate(row):\n",
    "            # If the index matches a stack label and isn't empty, add to cleaned stack data\n",
    "            if (ind-1 in [label.index(x) for x in label if (x!=' ')]) & (box != ' '):\n",
    "                stacks[int(label[ind-1])-1].insert(0, box)\n",
    "    \n",
    "    # Create 3-tuples for procedure data\n",
    "    # (move n boxes, from here, to here)\n",
    "    # See https://adventofcode.com/2022/day/5 for context\n",
    "    procedure_raw = [i.split(' ') for i in procedure_raw]\n",
    "    procedure = list(map(odd_index_ints, procedure_raw))\n",
    "                \n",
    "    return stacks, procedure"
   ]
  },
  {
   "cell_type": "code",
   "execution_count": 85,
   "id": "ad5d80ab",
   "metadata": {},
   "outputs": [],
   "source": [
    "def apply_procedure(stacks, procedure):\n",
    "    for (a,b,c) in procedure:\n",
    "        # Move (a) from (b) to (c)\n",
    "        move_boxes = stacks[b-1][-a:]\n",
    "        stacks[c-1] += list(reversed(move_boxes))\n",
    "        stacks[b-1] = stacks[b-1][:-a]\n",
    "    return stacks"
   ]
  },
  {
   "cell_type": "markdown",
   "id": "30a11dfb",
   "metadata": {},
   "source": [
    "## Part 1"
   ]
  },
  {
   "cell_type": "code",
   "execution_count": 86,
   "id": "2fbfd407",
   "metadata": {},
   "outputs": [],
   "source": [
    "def get_top_boxes(filename):\n",
    "    stacks, procedure = input_clean(filename)\n",
    "    final_stacks = apply_procedure(stacks, procedure)\n",
    "    output = []\n",
    "    for i in final_stacks:\n",
    "        output.append(i[-1])\n",
    "        \n",
    "    return ''.join(output)"
   ]
  },
  {
   "cell_type": "code",
   "execution_count": 87,
   "id": "aa232525",
   "metadata": {},
   "outputs": [
    {
     "data": {
      "text/plain": [
       "'HBTMTBSDC'"
      ]
     },
     "execution_count": 87,
     "metadata": {},
     "output_type": "execute_result"
    }
   ],
   "source": [
    "get_top_boxes('input.txt')"
   ]
  },
  {
   "cell_type": "markdown",
   "id": "33118f23",
   "metadata": {},
   "source": [
    "## Part 2"
   ]
  },
  {
   "cell_type": "code",
   "execution_count": 88,
   "id": "b6c72414",
   "metadata": {},
   "outputs": [],
   "source": [
    "def apply_procedure_nonreversed(stacks, procedure):\n",
    "    for (a,b,c) in procedure:\n",
    "        # Move (a) from (b) to (c)\n",
    "        move_boxes = stacks[b-1][-a:]\n",
    "        stacks[c-1] += list(move_boxes)\n",
    "        stacks[b-1] = stacks[b-1][:-a]\n",
    "    return stacks"
   ]
  },
  {
   "cell_type": "code",
   "execution_count": 89,
   "id": "59c26690",
   "metadata": {},
   "outputs": [],
   "source": [
    "def get_top_boxes_nonreversed(filename):\n",
    "    stacks, procedure = input_clean(filename)\n",
    "    final_stacks = apply_procedure_nonreversed(stacks, procedure)\n",
    "    output = []\n",
    "    for i in final_stacks:\n",
    "        output.append(i[-1])\n",
    "        \n",
    "    return ''.join(output)"
   ]
  },
  {
   "cell_type": "code",
   "execution_count": 92,
   "id": "a1ca446a",
   "metadata": {},
   "outputs": [
    {
     "data": {
      "text/plain": [
       "'PQTJRSHWS'"
      ]
     },
     "execution_count": 92,
     "metadata": {},
     "output_type": "execute_result"
    }
   ],
   "source": [
    "get_top_boxes_nonreversed('input.txt')"
   ]
  },
  {
   "cell_type": "code",
   "execution_count": null,
   "id": "4be2e7da",
   "metadata": {},
   "outputs": [],
   "source": []
  }
 ],
 "metadata": {
  "kernelspec": {
   "display_name": "Python 3 (ipykernel)",
   "language": "python",
   "name": "python3"
  },
  "language_info": {
   "codemirror_mode": {
    "name": "ipython",
    "version": 3
   },
   "file_extension": ".py",
   "mimetype": "text/x-python",
   "name": "python",
   "nbconvert_exporter": "python",
   "pygments_lexer": "ipython3",
   "version": "3.7.9"
  }
 },
 "nbformat": 4,
 "nbformat_minor": 5
}
