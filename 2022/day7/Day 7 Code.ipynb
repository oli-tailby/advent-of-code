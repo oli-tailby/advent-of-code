{
 "cells": [
  {
   "cell_type": "code",
   "execution_count": 19,
   "id": "2a20314c",
   "metadata": {},
   "outputs": [],
   "source": [
    "def read_input(filename):\n",
    "    with open(filename) as f:\n",
    "        data = iter(f.read().splitlines())\n",
    "    return data"
   ]
  },
  {
   "cell_type": "code",
   "execution_count": 27,
   "id": "1a290e42",
   "metadata": {},
   "outputs": [],
   "source": [
    "raw_input = read_input(\"input.txt\")"
   ]
  },
  {
   "cell_type": "code",
   "execution_count": 28,
   "id": "8d718029",
   "metadata": {},
   "outputs": [],
   "source": [
    "sizes = []\n",
    "stack = [0]\n",
    "# while loop - as long as there are still noncloseddirectories\n",
    "while stack:\n",
    "    line = next(raw_input, \"$ cd ..\")\n",
    "    # closing a directory - remove from the 'stack' and add it to the list of 'sizes'\n",
    "    if line == \"$ cd ..\":\n",
    "        subdir = stack.pop()\n",
    "        if stack:\n",
    "            sizes.append(subdir)\n",
    "            stack[-1] += subdir\n",
    "    # changing into a new subdir - add this dir to the 'stack'\n",
    "    elif '$ cd ' in line:\n",
    "        stack.append(0)\n",
    "    # if displaying a file add its size to the current directory (end of the stack)\n",
    "    elif line[:3] not in ['dir', '$ l']:\n",
    "        size, _ = line.split()\n",
    "        stack[-1] += int(size)"
   ]
  },
  {
   "cell_type": "code",
   "execution_count": 30,
   "id": "2cb08251",
   "metadata": {},
   "outputs": [
    {
     "name": "stdout",
     "output_type": "stream",
     "text": [
      "1886043\n",
      "3842121\n"
     ]
    }
   ],
   "source": [
    "# for part 2, sort the sizes and work out \n",
    "sizes = sorted(sizes)\n",
    "space_needed = 30000000 + max(sizes) - 70000000\n",
    "\n",
    "print(sum(d for d in sizes if d <= 100000))\n",
    "print(min(d for d in sizes if d >= space_needed))"
   ]
  },
  {
   "cell_type": "code",
   "execution_count": null,
   "id": "13b98ae5",
   "metadata": {},
   "outputs": [],
   "source": []
  }
 ],
 "metadata": {
  "kernelspec": {
   "display_name": "Python 3 (ipykernel)",
   "language": "python",
   "name": "python3"
  },
  "language_info": {
   "codemirror_mode": {
    "name": "ipython",
    "version": 3
   },
   "file_extension": ".py",
   "mimetype": "text/x-python",
   "name": "python",
   "nbconvert_exporter": "python",
   "pygments_lexer": "ipython3",
   "version": "3.7.9"
  }
 },
 "nbformat": 4,
 "nbformat_minor": 5
}
