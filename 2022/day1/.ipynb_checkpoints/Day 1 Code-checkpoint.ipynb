{
 "cells": [
  {
   "cell_type": "markdown",
   "id": "199d8952",
   "metadata": {},
   "source": [
    "# Advent of Code Day 1\n",
    "\n",
    "Calorie Counting - find the Elf with the most calories"
   ]
  },
  {
   "cell_type": "code",
   "execution_count": 81,
   "id": "a4bb69a2",
   "metadata": {},
   "outputs": [],
   "source": [
    "# Extract input and split by newline\n",
    "with open('input.txt') as f:\n",
    "    cals = f.read().splitlines()"
   ]
  },
  {
   "cell_type": "code",
   "execution_count": 82,
   "id": "ba7d9551",
   "metadata": {},
   "outputs": [],
   "source": [
    "# Index through calorie counts and sum for each elf. Assign a new elf on a blank line\n",
    "ind=0\n",
    "elf_cals=[0]\n",
    "for i in cals:\n",
    "    if i=='':\n",
    "        ind += 1\n",
    "        elf_cals.append(0)\n",
    "    else:\n",
    "        elf_cals[ind] += int(i)"
   ]
  },
  {
   "cell_type": "code",
   "execution_count": 83,
   "id": "a6b51442",
   "metadata": {},
   "outputs": [
    {
     "data": {
      "text/plain": [
       "203905"
      ]
     },
     "execution_count": 83,
     "metadata": {},
     "output_type": "execute_result"
    }
   ],
   "source": [
    "elf_cals_sorted = sorted(elf_cals, reverse=True)\n",
    "sum(elf_cals_sorted[0:3])"
   ]
  },
  {
   "cell_type": "code",
   "execution_count": null,
   "id": "584e41c3",
   "metadata": {},
   "outputs": [],
   "source": []
  }
 ],
 "metadata": {
  "kernelspec": {
   "display_name": "Python 3 (ipykernel)",
   "language": "python",
   "name": "python3"
  },
  "language_info": {
   "codemirror_mode": {
    "name": "ipython",
    "version": 3
   },
   "file_extension": ".py",
   "mimetype": "text/x-python",
   "name": "python",
   "nbconvert_exporter": "python",
   "pygments_lexer": "ipython3",
   "version": "3.7.9"
  }
 },
 "nbformat": 4,
 "nbformat_minor": 5
}
