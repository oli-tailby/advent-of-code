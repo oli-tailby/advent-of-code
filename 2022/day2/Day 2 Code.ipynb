{
 "cells": [
  {
   "cell_type": "code",
   "execution_count": 67,
   "id": "0c99cc24",
   "metadata": {},
   "outputs": [],
   "source": [
    "import numpy as np\n",
    "\n",
    "# Read input and split to nested array form\n",
    "with open('input.txt') as f:\n",
    "    rounds = f.read().splitlines()\n",
    "    \n",
    "strategy = [r.split() for r in rounds]"
   ]
  },
  {
   "cell_type": "code",
   "execution_count": 68,
   "id": "4a04a475",
   "metadata": {},
   "outputs": [],
   "source": [
    "# Calculate score from AOC rules given a relevant lookup\n",
    "def calculate_score(lookup):\n",
    "    score = 0\n",
    "    for i in strategy:\n",
    "        score += lookup[i[0]][i[1]]\n",
    "    return score"
   ]
  },
  {
   "cell_type": "markdown",
   "id": "855d245e",
   "metadata": {},
   "source": [
    "## Part 1"
   ]
  },
  {
   "cell_type": "code",
   "execution_count": 69,
   "id": "2881d3bb",
   "metadata": {},
   "outputs": [],
   "source": [
    "score_lookup = {'A':{'X':4, 'Y':8, 'Z':3},\n",
    "                'B':{'X':1, 'Y':5, 'Z':9},\n",
    "                'C':{'X':7, 'Y':2, 'Z':6}}"
   ]
  },
  {
   "cell_type": "code",
   "execution_count": 70,
   "id": "14a42e41",
   "metadata": {},
   "outputs": [
    {
     "data": {
      "text/plain": [
       "13052"
      ]
     },
     "execution_count": 70,
     "metadata": {},
     "output_type": "execute_result"
    }
   ],
   "source": [
    "calculate_score(score_lookup)"
   ]
  },
  {
   "cell_type": "markdown",
   "id": "60ad4180",
   "metadata": {},
   "source": [
    "## Part 2"
   ]
  },
  {
   "cell_type": "code",
   "execution_count": 71,
   "id": "86174406",
   "metadata": {},
   "outputs": [],
   "source": [
    "score_lookup_2 = {'A':{'X':3, 'Y':4, 'Z':8},\n",
    "                  'B':{'X':1, 'Y':5, 'Z':9},\n",
    "                  'C':{'X':2, 'Y':6, 'Z':7}}"
   ]
  },
  {
   "cell_type": "code",
   "execution_count": 72,
   "id": "a0023d93",
   "metadata": {},
   "outputs": [
    {
     "data": {
      "text/plain": [
       "13693"
      ]
     },
     "execution_count": 72,
     "metadata": {},
     "output_type": "execute_result"
    }
   ],
   "source": [
    "calculate_score(score_lookup_2)"
   ]
  },
  {
   "cell_type": "code",
   "execution_count": null,
   "id": "72d537b8",
   "metadata": {},
   "outputs": [],
   "source": []
  }
 ],
 "metadata": {
  "kernelspec": {
   "display_name": "Python 3 (ipykernel)",
   "language": "python",
   "name": "python3"
  },
  "language_info": {
   "codemirror_mode": {
    "name": "ipython",
    "version": 3
   },
   "file_extension": ".py",
   "mimetype": "text/x-python",
   "name": "python",
   "nbconvert_exporter": "python",
   "pygments_lexer": "ipython3",
   "version": "3.7.9"
  }
 },
 "nbformat": 4,
 "nbformat_minor": 5
}
